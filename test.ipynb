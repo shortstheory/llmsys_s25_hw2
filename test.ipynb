{
 "cells": [
  {
   "cell_type": "code",
   "execution_count": null,
   "id": "e4f2afce",
   "metadata": {},
   "outputs": [],
   "source": [
    "from minitorch import MultiHeadAttention\n",
    "import minitorch\n",
    "from minitorch.cuda_kernel_ops import CudaKernelOps\n",
    "import numpy as np\n",
    "from minitorch.tensor import tensor, tensor_from_numpy\n",
    "from minitorch.module import Module, Parameter\n",
    "from minitorch.tensor_ops import *\n"
   ]
  },
  {
   "cell_type": "code",
   "execution_count": 17,
   "id": "ac6d89cf",
   "metadata": {},
   "outputs": [],
   "source": [
    "\n",
    "backend = minitorch.TensorBackend(CudaKernelOps)"
   ]
  },
  {
   "cell_type": "code",
   "execution_count": 21,
   "id": "159c89d8",
   "metadata": {},
   "outputs": [
    {
     "data": {
      "text/plain": [
       "\n",
       "[\n",
       "\t[9.433045 2.734372 14.428965 -0.391024 -4.582525 15.132296 -2.703501 11.423223 -4.852634 -0.913881]\n",
       "\t[9.433045 2.734372 14.428965 -0.391024 -4.582525 15.132296 -2.703501 11.423223 -4.852634 -0.913881]\n",
       "\t[9.433045 2.734372 14.428965 -0.391024 -4.582525 15.132296 -2.703501 11.423223 -4.852634 -0.913881]\n",
       "\t[9.433045 2.734372 14.428965 -0.391024 -4.582525 15.132296 -2.703501 11.423223 -4.852634 -0.913881]\n",
       "\t[9.433045 2.734372 14.428965 -0.391024 -4.582525 15.132296 -2.703501 11.423223 -4.852634 -0.913881]\n",
       "\t[9.433045 2.734372 14.428965 -0.391024 -4.582525 15.132296 -2.703501 11.423223 -4.852634 -0.913881]\n",
       "\t[9.433045 2.734372 14.428965 -0.391024 -4.582525 15.132296 -2.703501 11.423223 -4.852634 -0.913881]\n",
       "\t[9.433045 2.734372 14.428965 -0.391024 -4.582525 15.132296 -2.703501 11.423223 -4.852634 -0.913881]\n",
       "\t[9.433045 2.734372 14.428965 -0.391024 -4.582525 15.132296 -2.703501 11.423223 -4.852634 -0.913881]\n",
       "\t[9.433045 2.734372 14.428965 -0.391024 -4.582525 15.132296 -2.703501 11.423223 -4.852634 -0.913881]]"
      ]
     },
     "execution_count": 21,
     "metadata": {},
     "output_type": "execute_result"
    }
   ],
   "source": [
    "np_ones = np.ones((1,5,10))\n",
    "np.random.seed(10)\n",
    "\n",
    "np10x10_ones = np.random.normal(0,1,(10,10))\n",
    "m=MultiHeadAttention(10, 2, True, 0.0, False, backend)  \n",
    "m.q_projection.weights.value = tensor_from_numpy(np10x10_ones, backend, True)\n",
    "m.k_projection.weights.value = tensor_from_numpy(np10x10_ones, backend, True)\n",
    "m.v_projection.weights.value = tensor_from_numpy(np10x10_ones, backend, True)\n",
    "m.out_projection.weights.value = tensor_from_numpy(np10x10_ones, backend, True)\n",
    "x =  tensor_from_numpy(np_ones, backend, True)\n",
    "y=m(x)\n",
    "y.sum().backward()\n",
    "m.v_projection.weights.value.grad"
   ]
  },
  {
   "cell_type": "code",
   "execution_count": null,
   "id": "ef50fa06",
   "metadata": {},
   "outputs": [
    {
     "data": {
      "text/plain": [
       "\n",
       "[\n",
       "\t[0.000000 0.000000 0.000000 0.000000 0.000000 0.000000 0.000000 0.000000 0.000000 0.000000]\n",
       "\t[0.000000 0.000000 0.000000 0.000000 0.000000 0.000000 0.000000 0.000000 0.000000 0.000000]\n",
       "\t[0.000000 0.000000 0.000000 0.000000 0.000000 0.000000 0.000000 0.000000 0.000000 0.000000]\n",
       "\t[0.000000 0.000000 0.000000 0.000000 0.000000 0.000000 0.000000 0.000000 0.000000 0.000000]\n",
       "\t[0.000000 0.000000 0.000000 0.000000 0.000000 0.000000 0.000000 0.000000 0.000000 0.000000]\n",
       "\t[0.000000 0.000000 0.000000 0.000000 0.000000 0.000000 0.000000 0.000000 0.000000 0.000000]\n",
       "\t[0.000000 0.000000 0.000000 0.000000 0.000000 0.000000 0.000000 0.000000 0.000000 0.000000]\n",
       "\t[0.000000 0.000000 0.000000 0.000000 0.000000 0.000000 0.000000 0.000000 0.000000 0.000000]\n",
       "\t[0.000000 0.000000 0.000000 0.000000 0.000000 0.000000 0.000000 0.000000 0.000000 0.000000]\n",
       "\t[0.000000 0.000000 0.000000 0.000000 0.000000 0.000000 0.000000 0.000000 0.000000 0.000000]]"
      ]
     },
     "execution_count": 114,
     "metadata": {},
     "output_type": "execute_result"
    }
   ],
   "source": [
    "[\n",
    "\t[2.990415 8.881533 17.826761 4.652535 -8.729689 21.574926 -8.850663 8.025425 -9.896193 3.233282]\n",
    "\t[2.990415 8.881533 17.826761 4.652535 -8.729689 21.574926 -8.850663 8.025425 -9.896193 3.233282]\n",
    "\t[2.990415 8.881533 17.826761 4.652535 -8.729689 21.574926 -8.850663 8.025425 -9.896193 3.233282]\n",
    "\t[2.990415 8.881533 17.826761 4.652535 -8.729689 21.574926 -8.850663 8.025425 -9.896193 3.233282]\n",
    "\t[2.990415 8.881533 17.826761 4.652535 -8.729689 21.574926 -8.850663 8.025425 -9.896193 3.233282]\n",
    "\t[2.990415 8.881533 17.826761 4.652535 -8.729689 21.574926 -8.850663 8.025425 -9.896193 3.233282]\n",
    "\t[2.990415 8.881533 17.826761 4.652535 -8.729689 21.574926 -8.850663 8.025425 -9.896193 3.233282]\n",
    "\t[2.990415 8.881533 17.826761 4.652535 -8.729689 21.574926 -8.850663 8.025425 -9.896193 3.233282]\n",
    "\t[2.990415 8.881533 17.826761 4.652535 -8.729689 21.574926 -8.850663 8.025425 -9.896193 3.233282]\n",
    "\t[2.990415 8.881533 17.826761 4.652535 -8.729689 21.574926 -8.850663 8.025425 -9.896193 3.233282]]"
   ]
  },
  {
   "cell_type": "code",
   "execution_count": 117,
   "id": "f1dfb41c",
   "metadata": {},
   "outputs": [],
   "source": [
    "y=m(x)"
   ]
  },
  {
   "cell_type": "code",
   "execution_count": 4,
   "id": "9c32c4e3",
   "metadata": {},
   "outputs": [
    {
     "data": {
      "text/plain": [
       "\n",
       "[\n",
       "\t[\n",
       "\t\t[5.369593 0.966324 -12.508625 8.166962 10.864056 6.004936 -0.250119 6.299362 9.412932 -12.980747]\n",
       "\t\t[6.939350 8.842599 10.219313 -11.155605 -7.147309 -4.056501 6.718268 -5.945041 -15.139590 -5.890635]\n",
       "\t\t[8.036162 2.119884 -16.379766 10.296718 14.379575 7.938686 0.250354 8.178030 11.665155 -18.461407]\n",
       "\t\t[7.121964 4.463542 -5.535398 1.735536 5.531856 3.013258 2.618706 2.453023 1.044110 -12.656148]\n",
       "\t\t[-20.834011 -16.966730 2.609337 6.099866 -5.274689 -2.731110 -11.285677 0.075905 11.002531 31.419449]]]"
      ]
     },
     "execution_count": 4,
     "metadata": {},
     "output_type": "execute_result"
    }
   ],
   "source": [
    "y"
   ]
  },
  {
   "cell_type": "code",
   "execution_count": 79,
   "id": "ba5aba9c",
   "metadata": {},
   "outputs": [
    {
     "ename": "NameError",
     "evalue": "name 'TensorBackend' is not defined",
     "output_type": "error",
     "traceback": [
      "\u001b[0;31m---------------------------------------------------------------------------\u001b[0m",
      "\u001b[0;31mNameError\u001b[0m                                 Traceback (most recent call last)",
      "Cell \u001b[0;32mIn[79], line 3\u001b[0m\n\u001b[1;32m      1\u001b[0m x_numpy \u001b[38;5;241m=\u001b[39m np\u001b[38;5;241m.\u001b[39mrandom\u001b[38;5;241m.\u001b[39mnormal(\u001b[38;5;241m0\u001b[39m,\u001b[38;5;241m1\u001b[39m,(\u001b[38;5;241m2\u001b[39m, \u001b[38;5;241m4\u001b[39m, \u001b[38;5;241m5\u001b[39m))\n\u001b[1;32m      2\u001b[0m w_numpy \u001b[38;5;241m=\u001b[39m np\u001b[38;5;241m.\u001b[39mrandom\u001b[38;5;241m.\u001b[39mnormal(\u001b[38;5;241m0\u001b[39m,\u001b[38;5;241m1\u001b[39m,(\u001b[38;5;241m2\u001b[39m, \u001b[38;5;241m5\u001b[39m, \u001b[38;5;241m4\u001b[39m))\n\u001b[0;32m----> 3\u001b[0m x \u001b[38;5;241m=\u001b[39m tensor_from_numpy(x_numpy, \u001b[43mTensorBackend\u001b[49m(SimpleOps),\u001b[38;5;28;01mTrue\u001b[39;00m)   \u001b[38;5;66;03m# pretend B=2, H=3\u001b[39;00m\n\u001b[1;32m      4\u001b[0m w \u001b[38;5;241m=\u001b[39m tensor_from_numpy(w_numpy, TensorBackend(SimpleOps),\u001b[38;5;28;01mTrue\u001b[39;00m)\n\u001b[1;32m      5\u001b[0m y \u001b[38;5;241m=\u001b[39m (x \u001b[38;5;241m@\u001b[39m w)\u001b[38;5;241m.\u001b[39msum()\n",
      "\u001b[0;31mNameError\u001b[0m: name 'TensorBackend' is not defined"
     ]
    }
   ],
   "source": [
    "x_numpy = np.random.normal(0,1,(2, 4, 5))\n",
    "w_numpy = np.random.normal(0,1,(2, 5, 4))\n",
    "x = tensor_from_numpy(x_numpy, TensorBackend(SimpleOps),True)   # pretend B=2, H=3\n",
    "w = tensor_from_numpy(w_numpy, TensorBackend(SimpleOps),True)\n",
    "y = (x @ w).sum()\n",
    "y.backward()\n",
    "print(x.grad.sum())  # should be non‑zero\n",
    "print(w.grad.sum())  # \""
   ]
  },
  {
   "cell_type": "code",
   "execution_count": 67,
   "id": "a8559c6f",
   "metadata": {},
   "outputs": [],
   "source": [
    "grad_x_auto = x.grad.to_numpy().copy()\n",
    "grad_w_auto = w.grad.to_numpy().copy()"
   ]
  },
  {
   "cell_type": "code",
   "execution_count": 74,
   "id": "d597f7f6",
   "metadata": {},
   "outputs": [],
   "source": [
    "import numpy as np\n",
    "\n",
    "eps = 1e-4\n",
    "grad_x_fd = np.zeros_like(grad_x_auto)\n",
    "grad_w_fd = np.zeros_like(grad_w_auto)\n",
    "\n",
    "# --- gradient w.r.t x ----------------------------------------\n",
    "it = np.nditer(x.to_numpy(), flags=['multi_index'])\n",
    "while not it.finished:\n",
    "    idx = it.multi_index\n",
    "    \n",
    "    plus  = x.to_numpy().copy(); plus[idx]  += eps\n",
    "    minus = x.to_numpy().copy(); minus[idx] -= eps\n",
    "    \n",
    "    y_plus  = (tensor_from_numpy(plus,  backend) @ w).sum().item()\n",
    "    y_minus = (tensor_from_numpy(minus, backend) @ w).sum().item()\n",
    "    \n",
    "    grad_x_fd[idx] = (y_plus - y_minus) / (2 * eps)\n",
    "    it.iternext()\n",
    "\n",
    "# --- gradient w.r.t w ----------------------------------------\n",
    "it = np.nditer(w.to_numpy(), flags=['multi_index'])\n",
    "while not it.finished:\n",
    "    idx = it.multi_index\n",
    "    \n",
    "    plus  = w.to_numpy().copy(); plus[idx]  += eps\n",
    "    minus = w.to_numpy().copy(); minus[idx] -= eps\n",
    "    \n",
    "    y_plus  = (x @ tensor_from_numpy(plus,  backend)).sum().item()\n",
    "    y_minus = (x @ tensor_from_numpy(minus, backend)).sum().item()\n",
    "    \n",
    "    grad_w_fd[idx] = (y_plus - y_minus) / (2 * eps)\n",
    "    it.iternext()"
   ]
  },
  {
   "cell_type": "code",
   "execution_count": 75,
   "id": "97f53684",
   "metadata": {},
   "outputs": [],
   "source": [
    "abs_err_x = np.abs(grad_x_auto - grad_x_fd).max()\n",
    "abs_err_w = np.abs(grad_w_auto - grad_w_fd).max()\n"
   ]
  },
  {
   "cell_type": "code",
   "execution_count": 76,
   "id": "4756ee3a",
   "metadata": {},
   "outputs": [
    {
     "name": "stdout",
     "output_type": "stream",
     "text": [
      "max abs‑error (x): 0.01023984\n",
      "max abs‑error (w): 0.0103263855\n"
     ]
    }
   ],
   "source": [
    "print(\"max abs‑error (x):\", abs_err_x)\n",
    "print(\"max abs‑error (w):\", abs_err_w)"
   ]
  },
  {
   "cell_type": "code",
   "execution_count": 3,
   "id": "c2a5ab43",
   "metadata": {},
   "outputs": [
    {
     "data": {
      "text/plain": [
       "array([[0, 1, 2, 3, 4, 5, 6, 7, 8, 9]])"
      ]
     },
     "execution_count": 3,
     "metadata": {},
     "output_type": "execute_result"
    }
   ],
   "source": [
    "import numpy as np\n",
    "np.arange(0,10).reshape(1,10)"
   ]
  },
  {
   "cell_type": "code",
   "execution_count": null,
   "id": "35e515d8-8ba8-4317-b225-019a46ddc702",
   "metadata": {},
   "outputs": [],
   "source": []
  }
 ],
 "metadata": {
  "kernelspec": {
   "display_name": "Python 3 (ipykernel)",
   "language": "python",
   "name": "python3"
  },
  "language_info": {
   "codemirror_mode": {
    "name": "ipython",
    "version": 3
   },
   "file_extension": ".py",
   "mimetype": "text/x-python",
   "name": "python",
   "nbconvert_exporter": "python",
   "pygments_lexer": "ipython3",
   "version": "3.9.18"
  }
 },
 "nbformat": 4,
 "nbformat_minor": 5
}
