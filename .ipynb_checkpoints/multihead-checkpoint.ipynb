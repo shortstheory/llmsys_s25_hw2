{
 "cells": [
  {
   "cell_type": "code",
   "execution_count": 1,
   "id": "4d653f6a",
   "metadata": {},
   "outputs": [],
   "source": [
    "import torch\n",
    "import torch.nn as nn\n",
    "import torch.nn.functional as F\n",
    "\n",
    "class PytorchMultiHeadAttention(nn.Module):\n",
    "    def __init__(self, n_embd, n_head, causal=True, p_dropout=0.1, bias=True):\n",
    "        super().__init__()\n",
    "        self.n_embd = n_embd\n",
    "        self.n_head = n_head\n",
    "        self.causal = causal\n",
    "        self.attn_hidden_dim = n_embd // n_head\n",
    "        self.dropout = p_dropout\n",
    "\n",
    "        self.q_projection = nn.Linear(n_embd, n_embd, bias=bias)\n",
    "        self.k_projection = nn.Linear(n_embd, n_embd, bias=bias)\n",
    "        self.v_projection = nn.Linear(n_embd, n_embd, bias=bias)\n",
    "        self.out_projection = nn.Linear(n_embd, n_embd, bias=bias)\n",
    "\n",
    "    def create_causal_mask(self, seq_len, device):\n",
    "        # (1, 1, T, T) mask filled with -inf in upper triangle\n",
    "        mask = torch.triu(torch.ones((1, 1, seq_len, seq_len), device=device), diagonal=1)\n",
    "        mask = mask.masked_fill(mask == 1, float('-inf'))\n",
    "        return mask\n",
    "\n",
    "    def reshape_and_multiply_layer(self, m, x):\n",
    "        B, T, E = x.shape\n",
    "        x_flattened = x.reshape(B * T, E)                  # (B*T, E)\n",
    "        result = m(x_flattened)                            # (B*T, E)\n",
    "        result = result.view(B, T, self.n_head, self.attn_hidden_dim)  # (B, T, H, D)\n",
    "        result = result.permute(0, 2, 1, 3).contiguous()   # (B, H, T, D)\n",
    "        return result\n",
    "\n",
    "    def project_to_query_key_value(self, x):\n",
    "        q = self.reshape_and_multiply_layer(self.q_projection, x)         # (B, H, T, D)\n",
    "        k = self.reshape_and_multiply_layer(self.k_projection, x)         # (B, H, T, D)\n",
    "        v = self.reshape_and_multiply_layer(self.v_projection, x)         # (B, H, T, D)\n",
    "        kT = k.permute(0, 1, 3, 2).contiguous()                            # (B, H, D, T)\n",
    "        return q, kT, v\n",
    "\n",
    "    def self_attention(self, q, kT, v):\n",
    "        B, H, T, D = q.shape\n",
    "        scale = D ** 0.5\n",
    "        attn_scores = torch.matmul(q, kT) / scale                          # (B, H, T, T)\n",
    "\n",
    "        if self.causal:\n",
    "            mask = self.create_causal_mask(T, q.device)                   # (1, 1, T, T)\n",
    "            attn_scores = attn_scores + mask                              # broadcasted\n",
    "\n",
    "        attn_weights = F.softmax(attn_scores, dim=-1)                     # (B, H, T, T)\n",
    "        attn_output = torch.matmul(attn_weights, v)                       # (B, H, T, D)\n",
    "\n",
    "        output = attn_output.permute(0, 2, 1, 3).contiguous()             # (B, T, H, D)\n",
    "        output = output.view(B, T, H * D)                                 # (B, T, E)\n",
    "        return output\n",
    "\n",
    "    def forward(self, x):\n",
    "        B, T, E = x.shape\n",
    "        q, kT, v = self.project_to_query_key_value(x)\n",
    "        out = self.self_attention(q, kT, v)\n",
    "        out = self.out_projection(out.view(B * T, E)).view(B, T, E)\n",
    "        return out"
   ]
  },
  {
   "cell_type": "code",
   "execution_count": 16,
   "id": "5217edb3",
   "metadata": {},
   "outputs": [],
   "source": [
    "import numpy as np\n",
    "import torch\n",
    "import os\n",
    "\n",
    "def load_numpy_array(arr_path):\n",
    "    with open(arr_path, 'rb') as f:\n",
    "        return np.load(f).astype(np.float32)\n",
    "\n",
    "def test_multihead_attention_student(batch_size, queries_len, n_embd, num_heads, p_dropout):\n",
    "    test_dir = f'./tests/data/multihead_attention'\n",
    "    test_str = '_'.join(map(str, (batch_size, queries_len, n_embd, num_heads)))\n",
    "\n",
    "    # Load numpy test data\n",
    "    data = load_numpy_array(os.path.join(test_dir, f'{test_str}_data.npy'))\n",
    "    w_q = load_numpy_array(os.path.join(test_dir, f'{test_str}_w_q.npy'))\n",
    "    w_k = load_numpy_array(os.path.join(test_dir, f'{test_str}_w_k.npy'))\n",
    "    w_v = load_numpy_array(os.path.join(test_dir, f'{test_str}_w_v.npy'))\n",
    "    w_out = load_numpy_array(os.path.join(test_dir, f'{test_str}_w_out.npy'))\n",
    "\n",
    "    result_ = load_numpy_array(os.path.join(test_dir, f'{test_str}_result.npy'))\n",
    "    x_grad = load_numpy_array(os.path.join(test_dir, f'{test_str}_x_grad.npy'))\n",
    "    w_q_grad = load_numpy_array(os.path.join(test_dir, f'{test_str}_w_q_grad.npy'))\n",
    "    w_k_grad = load_numpy_array(os.path.join(test_dir, f'{test_str}_w_k_grad.npy'))\n",
    "    w_v_grad = load_numpy_array(os.path.join(test_dir, f'{test_str}_w_v_grad.npy'))\n",
    "    w_out_grad = load_numpy_array(os.path.join(test_dir, f'{test_str}_w_out_grad.npy'))\n",
    "\n",
    "    # Create tensors with requires_grad=True to compute gradients\n",
    "    X = torch.from_numpy(data).requires_grad_(True)\n",
    "\n",
    "    # Initialize your PyTorch implementation\n",
    "    layer = PytorchMultiHeadAttention(n_embd, num_heads, causal=True, bias=False)\n",
    "\n",
    "    # Load provided weights into PyTorch layers\n",
    "    with torch.no_grad():\n",
    "        layer.q_projection.weight.copy_(torch.from_numpy(w_q.T))\n",
    "        layer.k_projection.weight.copy_(torch.from_numpy(w_k.T))\n",
    "        layer.v_projection.weight.copy_(torch.from_numpy(w_v.T))\n",
    "        layer.out_projection.weight.copy_(torch.from_numpy(w_out.T))\n",
    "\n",
    "    # Forward pass\n",
    "    result = layer(X)\n",
    "\n",
    "    # Check forward pass output\n",
    "    np.testing.assert_allclose(result.detach().numpy(), result_, atol=1e-5, rtol=1e-5)\n",
    "\n",
    "    # Backward pass to compute gradients\n",
    "    result.sum().backward()\n",
    "\n",
    "    # # Check gradients\n",
    "    np.testing.assert_allclose(X.grad.numpy(), x_grad, atol=1e-5, rtol=1e-5)\n",
    "    np.testing.assert_allclose(layer.q_projection.weight.grad.numpy(), w_q_grad.T, atol=1e-5, rtol=1e-5)\n",
    "    np.testing.assert_allclose(layer.k_projection.weight.grad.numpy(), w_k_grad.T, atol=1e-5, rtol=1e-5)\n",
    "    np.testing.assert_allclose(layer.v_projection.weight.grad.numpy(), w_v_grad.T, atol=1e-5, rtol=1e-5)\n",
    "    np.testing.assert_allclose(layer.out_projection.weight.grad.numpy(), w_out_grad.T, atol=1e-5, rtol=1e-5)\n",
    "    print(\"All tests passed successfully!\")"
   ]
  },
  {
   "cell_type": "code",
   "execution_count": 17,
   "id": "32433d42-4eb8-4955-99a7-3b75f2104f23",
   "metadata": {},
   "outputs": [
    {
     "name": "stdout",
     "output_type": "stream",
     "text": [
      "All tests passed successfully!\n"
     ]
    }
   ],
   "source": [
    "m = test_multihead_attention_student(128,32,256,8,0.0)"
   ]
  },
  {
   "cell_type": "code",
   "execution_count": 31,
   "id": "bb3cd0ba-f96c-4746-9fc2-3be1be308f12",
   "metadata": {},
   "outputs": [],
   "source": [
    "from minitorch import MultiHeadAttention\n",
    "import minitorch\n",
    "from minitorch.cuda_kernel_ops import CudaKernelOps\n",
    "import numpy as np\n",
    "from minitorch.tensor import tensor, tensor_from_numpy\n",
    "from minitorch.module import Module, Parameter\n",
    "from minitorch.tensor_ops import *\n",
    "\n",
    "\n",
    "backend = minitorch.TensorBackend(CudaKernelOps)\n",
    "def test_multihead_attention_student_minitorch(batch_size, queries_len, n_embd, num_heads, p_dropout, backend):\n",
    "    test_dir = f'./tests/data/multihead_attention'\n",
    "    test_str = '_'.join(map(str, (batch_size, queries_len, n_embd, num_heads)))\n",
    "\n",
    "    data = load_numpy_array(os.path.join(test_dir, f'{test_str}_data.npy'))\n",
    "    w_q = load_numpy_array(os.path.join(test_dir, f'{test_str}_w_q.npy'))\n",
    "    w_k = load_numpy_array(os.path.join(test_dir, f'{test_str}_w_k.npy'))\n",
    "    w_v = load_numpy_array(os.path.join(test_dir, f'{test_str}_w_v.npy'))\n",
    "    w_out = load_numpy_array(os.path.join(test_dir, f'{test_str}_w_out.npy'))\n",
    "    result_ = load_numpy_array(os.path.join(test_dir, f'{test_str}_result.npy'))\n",
    "    x_grad = load_numpy_array(os.path.join(test_dir, f'{test_str}_x_grad.npy'))\n",
    "    w_q_grad = load_numpy_array(os.path.join(test_dir, f'{test_str}_w_q_grad.npy'))\n",
    "    w_k_grad = load_numpy_array(os.path.join(test_dir, f'{test_str}_w_k_grad.npy'))\n",
    "    w_v_grad = load_numpy_array(os.path.join(test_dir, f'{test_str}_w_v_grad.npy'))\n",
    "    w_out_grad = load_numpy_array(os.path.join(test_dir, f'{test_str}_w_out_grad.npy'))\n",
    "\n",
    "    X    = minitorch.tensor_from_numpy(data, backend, True)\n",
    "\n",
    "    layer = minitorch.MultiHeadAttention(n_embd, num_heads, True, p_dropout, bias=False, backend=backend)\n",
    "    \n",
    "    layer.q_projection.weights.value   = minitorch.tensor_from_numpy((w_q), backend=backend, requires_grad=True)\n",
    "    layer.k_projection.weights.value   = minitorch.tensor_from_numpy((w_k), backend=backend, requires_grad=True)\n",
    "    layer.v_projection.weights.value   = minitorch.tensor_from_numpy((w_v), backend=backend, requires_grad=True)\n",
    "    layer.out_projection.weights.value = minitorch.tensor_from_numpy((w_out), backend=backend, requires_grad=True)\n",
    "    result = layer(X)\n",
    "    np.testing.assert_allclose(result.to_numpy(), result_, atol=1e-5, rtol=1e-5)\n",
    "\n",
    "    result.sum().backward()\n",
    "    \n",
    "    np.testing.assert_allclose(X.grad.to_numpy(), x_grad, atol=1e-5, rtol=1e-5)\n",
    "    np.testing.assert_allclose(layer.out_projection.weights.value.grad.to_numpy(), w_out_grad, atol=1e-5, rtol=1e-5)\n",
    "    #np.testing.assert_allclose(layer.q_projection.weights.value.grad.to_numpy(), w_q_grad, atol=1e-5, rtol=1e-5)\n"
   ]
  },
  {
   "cell_type": "code",
   "execution_count": 32,
   "id": "b61703c3-e733-4dd5-8167-32f11626e00b",
   "metadata": {},
   "outputs": [
    {
     "ename": "AssertionError",
     "evalue": "\nNot equal to tolerance rtol=1e-05, atol=1e-05\n\nMismatched elements: 2047 / 2048 (100%)\nMax absolute difference: 0.2787211\nMax relative difference: 106.95556\n x: array([[[-1.119973e+00, -3.120635e-01,  2.496696e+00, ...,\n         -2.344581e+00,  1.513129e+00, -6.553519e-01],\n        [-9.207252e-01, -2.263317e-01,  1.991160e+00, ...,...\n y: array([[[-1.130160e+00, -2.393968e-01,  2.421386e+00, ...,\n         -2.321888e+00,  1.498410e+00, -6.777815e-01],\n        [-1.048810e+00, -2.745492e-01,  2.018161e+00, ...,...",
     "output_type": "error",
     "traceback": [
      "\u001b[0;31m---------------------------------------------------------------------------\u001b[0m",
      "\u001b[0;31mAssertionError\u001b[0m                            Traceback (most recent call last)",
      "Cell \u001b[0;32mIn[32], line 1\u001b[0m\n\u001b[0;32m----> 1\u001b[0m m2 \u001b[38;5;241m=\u001b[39m \u001b[43mtest_multihead_attention_student_minitorch\u001b[49m\u001b[43m(\u001b[49m\u001b[38;5;241;43m1\u001b[39;49m\u001b[43m,\u001b[49m\u001b[38;5;241;43m32\u001b[39;49m\u001b[43m,\u001b[49m\u001b[38;5;241;43m64\u001b[39;49m\u001b[43m,\u001b[49m\u001b[38;5;241;43m1\u001b[39;49m\u001b[43m,\u001b[49m\u001b[38;5;241;43m0.0\u001b[39;49m\u001b[43m,\u001b[49m\u001b[43mbackend\u001b[49m\u001b[43m)\u001b[49m\n",
      "Cell \u001b[0;32mIn[31], line 40\u001b[0m, in \u001b[0;36mtest_multihead_attention_student_minitorch\u001b[0;34m(batch_size, queries_len, n_embd, num_heads, p_dropout, backend)\u001b[0m\n\u001b[1;32m     36\u001b[0m np\u001b[38;5;241m.\u001b[39mtesting\u001b[38;5;241m.\u001b[39massert_allclose(result\u001b[38;5;241m.\u001b[39mto_numpy(), result_, atol\u001b[38;5;241m=\u001b[39m\u001b[38;5;241m1e-5\u001b[39m, rtol\u001b[38;5;241m=\u001b[39m\u001b[38;5;241m1e-5\u001b[39m)\n\u001b[1;32m     38\u001b[0m result\u001b[38;5;241m.\u001b[39msum()\u001b[38;5;241m.\u001b[39mbackward()\n\u001b[0;32m---> 40\u001b[0m \u001b[43mnp\u001b[49m\u001b[38;5;241;43m.\u001b[39;49m\u001b[43mtesting\u001b[49m\u001b[38;5;241;43m.\u001b[39;49m\u001b[43massert_allclose\u001b[49m\u001b[43m(\u001b[49m\u001b[43mX\u001b[49m\u001b[38;5;241;43m.\u001b[39;49m\u001b[43mgrad\u001b[49m\u001b[38;5;241;43m.\u001b[39;49m\u001b[43mto_numpy\u001b[49m\u001b[43m(\u001b[49m\u001b[43m)\u001b[49m\u001b[43m,\u001b[49m\u001b[43m \u001b[49m\u001b[43mx_grad\u001b[49m\u001b[43m,\u001b[49m\u001b[43m \u001b[49m\u001b[43matol\u001b[49m\u001b[38;5;241;43m=\u001b[39;49m\u001b[38;5;241;43m1e-5\u001b[39;49m\u001b[43m,\u001b[49m\u001b[43m \u001b[49m\u001b[43mrtol\u001b[49m\u001b[38;5;241;43m=\u001b[39;49m\u001b[38;5;241;43m1e-5\u001b[39;49m\u001b[43m)\u001b[49m\n\u001b[1;32m     41\u001b[0m np\u001b[38;5;241m.\u001b[39mtesting\u001b[38;5;241m.\u001b[39massert_allclose(layer\u001b[38;5;241m.\u001b[39mout_projection\u001b[38;5;241m.\u001b[39mweights\u001b[38;5;241m.\u001b[39mvalue\u001b[38;5;241m.\u001b[39mgrad\u001b[38;5;241m.\u001b[39mto_numpy(), w_out_grad, atol\u001b[38;5;241m=\u001b[39m\u001b[38;5;241m1e-5\u001b[39m, rtol\u001b[38;5;241m=\u001b[39m\u001b[38;5;241m1e-5\u001b[39m)\n",
      "    \u001b[0;31m[... skipping hidden 1 frame]\u001b[0m\n",
      "File \u001b[0;32m~/anaconda3/envs/minitorch/lib/python3.9/site-packages/numpy/testing/_private/utils.py:844\u001b[0m, in \u001b[0;36massert_array_compare\u001b[0;34m(comparison, x, y, err_msg, verbose, header, precision, equal_nan, equal_inf)\u001b[0m\n\u001b[1;32m    840\u001b[0m         err_msg \u001b[38;5;241m+\u001b[39m\u001b[38;5;241m=\u001b[39m \u001b[38;5;124m'\u001b[39m\u001b[38;5;130;01m\\n\u001b[39;00m\u001b[38;5;124m'\u001b[39m \u001b[38;5;241m+\u001b[39m \u001b[38;5;124m'\u001b[39m\u001b[38;5;130;01m\\n\u001b[39;00m\u001b[38;5;124m'\u001b[39m\u001b[38;5;241m.\u001b[39mjoin(remarks)\n\u001b[1;32m    841\u001b[0m         msg \u001b[38;5;241m=\u001b[39m build_err_msg([ox, oy], err_msg,\n\u001b[1;32m    842\u001b[0m                             verbose\u001b[38;5;241m=\u001b[39mverbose, header\u001b[38;5;241m=\u001b[39mheader,\n\u001b[1;32m    843\u001b[0m                             names\u001b[38;5;241m=\u001b[39m(\u001b[38;5;124m'\u001b[39m\u001b[38;5;124mx\u001b[39m\u001b[38;5;124m'\u001b[39m, \u001b[38;5;124m'\u001b[39m\u001b[38;5;124my\u001b[39m\u001b[38;5;124m'\u001b[39m), precision\u001b[38;5;241m=\u001b[39mprecision)\n\u001b[0;32m--> 844\u001b[0m         \u001b[38;5;28;01mraise\u001b[39;00m \u001b[38;5;167;01mAssertionError\u001b[39;00m(msg)\n\u001b[1;32m    845\u001b[0m \u001b[38;5;28;01mexcept\u001b[39;00m \u001b[38;5;167;01mValueError\u001b[39;00m:\n\u001b[1;32m    846\u001b[0m     \u001b[38;5;28;01mimport\u001b[39;00m\u001b[38;5;250m \u001b[39m\u001b[38;5;21;01mtraceback\u001b[39;00m\n",
      "\u001b[0;31mAssertionError\u001b[0m: \nNot equal to tolerance rtol=1e-05, atol=1e-05\n\nMismatched elements: 2047 / 2048 (100%)\nMax absolute difference: 0.2787211\nMax relative difference: 106.95556\n x: array([[[-1.119973e+00, -3.120635e-01,  2.496696e+00, ...,\n         -2.344581e+00,  1.513129e+00, -6.553519e-01],\n        [-9.207252e-01, -2.263317e-01,  1.991160e+00, ...,...\n y: array([[[-1.130160e+00, -2.393968e-01,  2.421386e+00, ...,\n         -2.321888e+00,  1.498410e+00, -6.777815e-01],\n        [-1.048810e+00, -2.745492e-01,  2.018161e+00, ...,..."
     ]
    }
   ],
   "source": [
    "m2 = test_multihead_attention_student_minitorch(1,32,64,1,0.0,backend)"
   ]
  },
  {
   "cell_type": "code",
   "execution_count": 20,
   "id": "67403df4-bcdc-417b-a364-7ba5094218d1",
   "metadata": {},
   "outputs": [
    {
     "ename": "AttributeError",
     "evalue": "'NoneType' object has no attribute 'q_projection'",
     "output_type": "error",
     "traceback": [
      "\u001b[0;31m---------------------------------------------------------------------------\u001b[0m",
      "\u001b[0;31mAttributeError\u001b[0m                            Traceback (most recent call last)",
      "Cell \u001b[0;32mIn[20], line 1\u001b[0m\n\u001b[0;32m----> 1\u001b[0m \u001b[43mm\u001b[49m\u001b[38;5;241;43m.\u001b[39;49m\u001b[43mq_projection\u001b[49m\u001b[38;5;241m.\u001b[39mweight\n",
      "\u001b[0;31mAttributeError\u001b[0m: 'NoneType' object has no attribute 'q_projection'"
     ]
    }
   ],
   "source": [
    "m.q_projection.weight"
   ]
  },
  {
   "cell_type": "code",
   "execution_count": 21,
   "id": "ce3aa633-1612-47b7-a3ca-5930d5538dc9",
   "metadata": {},
   "outputs": [
    {
     "ename": "AttributeError",
     "evalue": "'NoneType' object has no attribute 'q_projection'",
     "output_type": "error",
     "traceback": [
      "\u001b[0;31m---------------------------------------------------------------------------\u001b[0m",
      "\u001b[0;31mAttributeError\u001b[0m                            Traceback (most recent call last)",
      "Cell \u001b[0;32mIn[21], line 1\u001b[0m\n\u001b[0;32m----> 1\u001b[0m \u001b[38;5;28mprint\u001b[39m((m2\u001b[38;5;241m.\u001b[39mq_projection\u001b[38;5;241m.\u001b[39mbias\u001b[38;5;241m.\u001b[39mvalue\u001b[38;5;241m.\u001b[39mto_numpy()\u001b[38;5;241m-\u001b[39m\u001b[43mm\u001b[49m\u001b[38;5;241;43m.\u001b[39;49m\u001b[43mq_projection\u001b[49m\u001b[38;5;241m.\u001b[39mbias\u001b[38;5;241m.\u001b[39mdata\u001b[38;5;241m.\u001b[39mnumpy())\u001b[38;5;241m.\u001b[39msum())\n",
      "\u001b[0;31mAttributeError\u001b[0m: 'NoneType' object has no attribute 'q_projection'"
     ]
    }
   ],
   "source": [
    "print((m2.q_projection.bias.value.to_numpy()-m.q_projection.bias.data.numpy()).sum())"
   ]
  },
  {
   "cell_type": "code",
   "execution_count": 22,
   "id": "50109bb1-afc6-45fb-87e8-e11f27d9f824",
   "metadata": {},
   "outputs": [
    {
     "ename": "AttributeError",
     "evalue": "'NoneType' object has no attribute 'q_projection'",
     "output_type": "error",
     "traceback": [
      "\u001b[0;31m---------------------------------------------------------------------------\u001b[0m",
      "\u001b[0;31mAttributeError\u001b[0m                            Traceback (most recent call last)",
      "Cell \u001b[0;32mIn[22], line 1\u001b[0m\n\u001b[0;32m----> 1\u001b[0m \u001b[43mm\u001b[49m\u001b[38;5;241;43m.\u001b[39;49m\u001b[43mq_projection\u001b[49m\u001b[38;5;241m.\u001b[39mweight\n",
      "\u001b[0;31mAttributeError\u001b[0m: 'NoneType' object has no attribute 'q_projection'"
     ]
    }
   ],
   "source": [
    "m.q_projection.weight"
   ]
  },
  {
   "cell_type": "code",
   "execution_count": null,
   "id": "4ab2a61f-8cd4-42cf-81d4-ea6cdaee5d32",
   "metadata": {},
   "outputs": [],
   "source": [
    "x = tensor_from_numpy(np.random.randn(2, 3, 4), requires_grad=True)\n",
    "y = x.permute(0, 2, 1)  # now shape (2, 4, 3)\n",
    "out = y.sum()\n",
    "out.backward()\n",
    "\n",
    "print(x.grad)  # should be all ones, same shape as x"
   ]
  }
 ],
 "metadata": {
  "kernelspec": {
   "display_name": "Python 3 (ipykernel)",
   "language": "python",
   "name": "python3"
  },
  "language_info": {
   "codemirror_mode": {
    "name": "ipython",
    "version": 3
   },
   "file_extension": ".py",
   "mimetype": "text/x-python",
   "name": "python",
   "nbconvert_exporter": "python",
   "pygments_lexer": "ipython3",
   "version": "3.9.18"
  }
 },
 "nbformat": 4,
 "nbformat_minor": 5
}
