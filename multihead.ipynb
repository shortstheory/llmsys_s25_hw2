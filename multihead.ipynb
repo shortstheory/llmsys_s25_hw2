{
 "cells": [
  {
   "cell_type": "code",
   "execution_count": 1,
   "id": "4d653f6a",
   "metadata": {},
   "outputs": [],
   "source": [
    "import torch\n",
    "import torch.nn as nn\n",
    "import torch.nn.functional as F\n",
    "\n",
    "class PytorchMultiHeadAttention(nn.Module):\n",
    "    def __init__(self, n_embd, n_head, causal=True, p_dropout=0.1, bias=True):\n",
    "        super().__init__()\n",
    "        self.n_embd = n_embd\n",
    "        self.n_head = n_head\n",
    "        self.causal = causal\n",
    "        self.attn_hidden_dim = n_embd // n_head\n",
    "        self.dropout = p_dropout\n",
    "\n",
    "        self.q_projection = nn.Linear(n_embd, n_embd, bias=bias)\n",
    "        self.k_projection = nn.Linear(n_embd, n_embd, bias=bias)\n",
    "        self.v_projection = nn.Linear(n_embd, n_embd, bias=bias)\n",
    "        self.out_projection = nn.Linear(n_embd, n_embd, bias=bias)\n",
    "\n",
    "    def create_causal_mask(self, seq_len, device):\n",
    "        # (1, 1, T, T) mask filled with -inf in upper triangle\n",
    "        mask = torch.triu(torch.ones((1, 1, seq_len, seq_len), device=device), diagonal=1)\n",
    "        mask = mask.masked_fill(mask == 1, float('-inf'))\n",
    "        return mask\n",
    "\n",
    "    def reshape_and_multiply_layer(self, out, m, x):\n",
    "        B, T, E = x.shape\n",
    "        x_flattened = x.reshape(B * T, E)                  # (B*T, E)\n",
    "        out = m(x_flattened)                            # (B*T, E)\n",
    "        out = out.view(B, T, self.n_head, self.attn_hidden_dim)  # (B, T, H, D)\n",
    "        out = out.permute(0, 2, 1, 3).contiguous()   # (B, H, T, D)\n",
    "        return out\n",
    "\n",
    "    def project_to_query_key_value(self, x):\n",
    "        B, T, E = x.shape\n",
    "        self.x_flattened = x.reshape(B * T, E)                  # (B*T, E)\n",
    "\n",
    "        self.Xq1 = self.q_projection(self.x_flattened)\n",
    "        self.Xq2 = self.Xq1.view(B,T,self.n_head,self.attn_hidden_dim)\n",
    "        self.Xq3 = self.Xq2.permute(0,2,1,3).contiguous()\n",
    "        self.Xqflattened = self.x_flattened\n",
    "        \n",
    "        self.Xk1 = self.k_projection(self.x_flattened)\n",
    "        self.Xk2 = self.Xk1.view(B,T,self.n_head,self.attn_hidden_dim)\n",
    "        self.Xk3 = self.Xk2.permute(0,2,1,3).contiguous()\n",
    "        self.Xkflattened = self.x_flattened\n",
    "\n",
    "        self.Xv0 = self.v_projection(self.x_flattened)\n",
    "        self.Xv1 = self.Xv0.view(B,T,E)\n",
    "        self.Xv2 = self.Xv1.view(B,T,self.n_head,self.attn_hidden_dim)\n",
    "        self.Xv3 = self.Xv2.permute(0,2,1,3).contiguous()\n",
    "        self.Xvflattened = self.x_flattened\n",
    "        \n",
    "        self.Xq1.retain_grad()\n",
    "        self.Xq2.retain_grad()\n",
    "        self.Xq3.retain_grad()\n",
    "        self.Xk1.retain_grad()\n",
    "        self.Xk2.retain_grad()\n",
    "        self.Xk3.retain_grad()\n",
    "        self.Xv0.retain_grad()\n",
    "        self.Xv1.retain_grad()\n",
    "        self.Xv2.retain_grad()\n",
    "        self.Xv3.retain_grad()\n",
    "        self.Xqflattened.retain_grad()\n",
    "        self.Xkflattened.retain_grad()\n",
    "        self.Xvflattened.retain_grad()\n",
    "        self.XkT = self.Xk3.permute(0, 1, 3, 2).contiguous()                            # (B, H, D, T)\n",
    "        self.XkT.retain_grad()\n",
    "        return self.Xq3, self.XkT, self.Xv3\n",
    "\n",
    "    def self_attention(self, q, kT, v):\n",
    "        B, H, T, D = q.shape\n",
    "        scale = D ** 0.5\n",
    "        self.attn_scores = torch.matmul(q, kT) / scale                          # (B, H, T, T)\n",
    "        self.v = v\n",
    "        self.v.retain_grad()\n",
    "        if self.causal:\n",
    "            mask = self.create_causal_mask(T, q.device)                   # (1, 1, T, T)\n",
    "            self.attn_scores = self.attn_scores + mask                              # broadcasted\n",
    "        self.attn_scores.retain_grad()\n",
    "        self.attn_weights = F.softmax(self.attn_scores, 3)                     # (B, H, T, T)\n",
    "        self.attn_weights.retain_grad()\n",
    "        self.attn_output = torch.matmul(self.attn_weights, self.v)                       # (B, H, T, D)\n",
    "        self.attn_output.retain_grad()\n",
    "        self.permute_output = self.attn_output.permute(0, 2, 1, 3).contiguous()             # (B, T, H, D)\n",
    "        self.permute_output.retain_grad()\n",
    "        self.output = self.permute_output.view(B, T, H * D)                                 # (B, T, E)\n",
    "        self.output.retain_grad()\n",
    "        return self.output\n",
    "\n",
    "    def forward(self, x):\n",
    "        B, T, E = x.shape\n",
    "        q, kT, v = self.project_to_query_key_value(x)\n",
    "        out = self.self_attention(q, kT, v)\n",
    "        out = self.out_projection(out.view(B * T, E)).view(B, T, E)\n",
    "        return out"
   ]
  },
  {
   "cell_type": "code",
   "execution_count": 2,
   "id": "5217edb3",
   "metadata": {},
   "outputs": [],
   "source": [
    "import numpy as np\n",
    "import torch\n",
    "import os\n",
    "\n",
    "def load_numpy_array(arr_path):\n",
    "    with open(arr_path, 'rb') as f:\n",
    "        return np.load(f).astype(np.float32)\n",
    "\n",
    "def test_multihead_attention_student(batch_size, queries_len, n_embd, num_heads, p_dropout):\n",
    "    test_dir = f'./tests/data/multihead_attention'\n",
    "    test_str = '_'.join(map(str, (batch_size, queries_len, n_embd, num_heads)))\n",
    "\n",
    "    # Load numpy test data\n",
    "    data = load_numpy_array(os.path.join(test_dir, f'{test_str}_data.npy'))\n",
    "    w_q = load_numpy_array(os.path.join(test_dir, f'{test_str}_w_q.npy'))\n",
    "    w_k = load_numpy_array(os.path.join(test_dir, f'{test_str}_w_k.npy'))\n",
    "    w_v = load_numpy_array(os.path.join(test_dir, f'{test_str}_w_v.npy'))\n",
    "    w_out = load_numpy_array(os.path.join(test_dir, f'{test_str}_w_out.npy'))\n",
    "\n",
    "    result_ = load_numpy_array(os.path.join(test_dir, f'{test_str}_result.npy'))\n",
    "    x_grad = load_numpy_array(os.path.join(test_dir, f'{test_str}_x_grad.npy'))\n",
    "    w_q_grad = load_numpy_array(os.path.join(test_dir, f'{test_str}_w_q_grad.npy'))\n",
    "    w_k_grad = load_numpy_array(os.path.join(test_dir, f'{test_str}_w_k_grad.npy'))\n",
    "    w_v_grad = load_numpy_array(os.path.join(test_dir, f'{test_str}_w_v_grad.npy'))\n",
    "    w_out_grad = load_numpy_array(os.path.join(test_dir, f'{test_str}_w_out_grad.npy'))\n",
    "\n",
    "    # Create tensors with requires_grad=True to compute gradients\n",
    "    X = torch.from_numpy(data).requires_grad_(True)\n",
    "\n",
    "    # Initialize your PyTorch implementation\n",
    "    layer = PytorchMultiHeadAttention(n_embd, num_heads, causal=True, bias=False)\n",
    "\n",
    "    # Load provided weights into PyTorch layers\n",
    "    with torch.no_grad():\n",
    "        layer.q_projection.weight.copy_(torch.from_numpy(w_q.T))\n",
    "        layer.k_projection.weight.copy_(torch.from_numpy(w_k.T))\n",
    "        layer.v_projection.weight.copy_(torch.from_numpy(w_v.T))\n",
    "        layer.out_projection.weight.copy_(torch.from_numpy(w_out.T))\n",
    "\n",
    "    # Forward pass\n",
    "    result = layer(X)\n",
    "\n",
    "    # Check forward pass output\n",
    "    np.testing.assert_allclose(result.detach().numpy(), result_, atol=1e-5, rtol=1e-5)\n",
    "\n",
    "    # Backward pass to compute gradients\n",
    "    result.sum().backward()\n",
    "\n",
    "    # # Check gradients\n",
    "    np.testing.assert_allclose(X.grad.numpy(), x_grad, atol=1e-5, rtol=1e-5)\n",
    "    np.testing.assert_allclose(layer.q_projection.weight.grad.numpy(), w_q_grad.T, atol=1e-5, rtol=1e-5)\n",
    "    np.testing.assert_allclose(layer.k_projection.weight.grad.numpy(), w_k_grad.T, atol=1e-5, rtol=1e-5)\n",
    "    np.testing.assert_allclose(layer.v_projection.weight.grad.numpy(), w_v_grad.T, atol=1e-5, rtol=1e-5)\n",
    "    np.testing.assert_allclose(layer.out_projection.weight.grad.numpy(), w_out_grad.T, atol=1e-5, rtol=1e-5)\n",
    "    print(\"All tests passed successfully!\")"
   ]
  },
  {
   "cell_type": "code",
   "execution_count": 3,
   "id": "32433d42-4eb8-4955-99a7-3b75f2104f23",
   "metadata": {},
   "outputs": [
    {
     "name": "stdout",
     "output_type": "stream",
     "text": [
      "All tests passed successfully!\n"
     ]
    }
   ],
   "source": [
    "m = test_multihead_attention_student(128,32,256,8,0.0)"
   ]
  },
  {
   "cell_type": "code",
   "execution_count": 4,
   "id": "bb3cd0ba-f96c-4746-9fc2-3be1be308f12",
   "metadata": {},
   "outputs": [],
   "source": [
    "from minitorch import MultiHeadAttention\n",
    "import minitorch\n",
    "from minitorch.cuda_kernel_ops import CudaKernelOps\n",
    "import numpy as np\n",
    "from minitorch.tensor import tensor, tensor_from_numpy\n",
    "from minitorch.module import Module, Parameter\n",
    "from minitorch.tensor_ops import *\n",
    "\n",
    "\n",
    "backend = minitorch.TensorBackend(CudaKernelOps)\n",
    "def test_multihead_attention_student_minitorch(batch_size, queries_len, n_embd, num_heads, p_dropout, backend):\n",
    "    test_dir = f'./tests/data/multihead_attention'\n",
    "    test_str = '_'.join(map(str, (batch_size, queries_len, n_embd, num_heads)))\n",
    "\n",
    "    data = load_numpy_array(os.path.join(test_dir, f'{test_str}_data.npy'))\n",
    "    w_q = load_numpy_array(os.path.join(test_dir, f'{test_str}_w_q.npy'))\n",
    "    w_k = load_numpy_array(os.path.join(test_dir, f'{test_str}_w_k.npy'))\n",
    "    w_v = load_numpy_array(os.path.join(test_dir, f'{test_str}_w_v.npy'))\n",
    "    w_out = load_numpy_array(os.path.join(test_dir, f'{test_str}_w_out.npy'))\n",
    "    result_ = load_numpy_array(os.path.join(test_dir, f'{test_str}_result.npy'))\n",
    "    x_grad = load_numpy_array(os.path.join(test_dir, f'{test_str}_x_grad.npy'))\n",
    "    w_q_grad = load_numpy_array(os.path.join(test_dir, f'{test_str}_w_q_grad.npy'))\n",
    "    w_k_grad = load_numpy_array(os.path.join(test_dir, f'{test_str}_w_k_grad.npy'))\n",
    "    w_v_grad = load_numpy_array(os.path.join(test_dir, f'{test_str}_w_v_grad.npy'))\n",
    "    w_out_grad = load_numpy_array(os.path.join(test_dir, f'{test_str}_w_out_grad.npy'))\n",
    "\n",
    "    X    = minitorch.tensor_from_numpy(data, backend, True)\n",
    "\n",
    "    layer = minitorch.MultiHeadAttention(n_embd, num_heads, True, p_dropout, bias=False, backend=backend)\n",
    "    \n",
    "    layer.q_projection.weights.value   = minitorch.tensor_from_numpy((w_q), backend=backend, requires_grad=True)\n",
    "    layer.k_projection.weights.value   = minitorch.tensor_from_numpy((w_k), backend=backend, requires_grad=True)\n",
    "    layer.v_projection.weights.value   = minitorch.tensor_from_numpy((w_v), backend=backend, requires_grad=True)\n",
    "    layer.out_projection.weights.value = minitorch.tensor_from_numpy((w_out), backend=backend, requires_grad=True)\n",
    "    result = layer(X)\n",
    "    np.testing.assert_allclose(result.to_numpy(), result_, atol=1e-5, rtol=1e-5)\n",
    "\n",
    "    result.sum().backward()\n",
    "    \n",
    "    #np.testing.assert_allclose(X.grad.to_numpy(), x_grad, atol=1e-5, rtol=1e-5)\n",
    "    np.testing.assert_allclose(layer.out_projection.weights.value.grad.to_numpy(), w_out_grad, atol=1e-5, rtol=1e-5)\n",
    "    # np.testing.assert_allclose(layer.v_projection.weights.value.grad.to_numpy(), w_q_grad, atol=1e-5, rtol=1e-5)\n"
   ]
  },
  {
   "cell_type": "code",
   "execution_count": 5,
   "id": "b61703c3-e733-4dd5-8167-32f11626e00b",
   "metadata": {},
   "outputs": [
    {
     "name": "stdout",
     "output_type": "stream",
     "text": [
      "\n",
      "[0.000000 2.000000 1.000000 3.000000]\n",
      "[0, 2, 1, 3]\n",
      "\n",
      "[0.000000 2.000000 1.000000 3.000000]\n",
      "[0, 2, 1, 3]\n",
      "\n",
      "[0.000000 1.000000 3.000000 2.000000]\n",
      "[0, 1, 3, 2]\n",
      "\n",
      "[0.000000 2.000000 1.000000 3.000000]\n",
      "[0, 2, 1, 3]\n",
      "\n",
      "[0.000000 2.000000 1.000000 3.000000]\n",
      "[0, 2, 1, 3]\n"
     ]
    }
   ],
   "source": [
    "m2 = test_multihead_attention_student_minitorch(128,32,256,8,0.0,backend)"
   ]
  },
  {
   "cell_type": "code",
   "execution_count": 6,
   "id": "4ab2a61f-8cd4-42cf-81d4-ea6cdaee5d32",
   "metadata": {},
   "outputs": [
    {
     "name": "stdout",
     "output_type": "stream",
     "text": [
      "\n",
      "[0.000000 2.000000 1.000000]\n",
      "[0, 2, 1]\n",
      "\n",
      "[\n",
      "\t[\n",
      "\t\t[1.000000 1.000000 1.000000 1.000000]\n",
      "\t\t[1.000000 1.000000 1.000000 1.000000]\n",
      "\t\t[1.000000 1.000000 1.000000 1.000000]]\n",
      "\t[\n",
      "\t\t[1.000000 1.000000 1.000000 1.000000]\n",
      "\t\t[1.000000 1.000000 1.000000 1.000000]\n",
      "\t\t[1.000000 1.000000 1.000000 1.000000]]]\n"
     ]
    }
   ],
   "source": [
    "x = tensor_from_numpy(np.random.randn(2, 3, 4),backend, requires_grad=True)\n",
    "y = x.permute(0, 2, 1)  # now shape (2, 4, 3)\n",
    "out = y.sum()\n",
    "out.backward()\n",
    "\n",
    "print(x.grad)  # should be all ones, same shape as x"
   ]
  },
  {
   "cell_type": "code",
   "execution_count": 7,
   "id": "ad7d0749-1d18-47cd-8e10-6d2f52bc3625",
   "metadata": {},
   "outputs": [
    {
     "name": "stdout",
     "output_type": "stream",
     "text": [
      "\n",
      "[0.000000 2.000000 1.000000 3.000000]\n",
      "[0, 2, 1, 3]\n",
      "\n",
      "[0.000000 2.000000 1.000000 3.000000]\n",
      "[0, 2, 1, 3]\n",
      "\n",
      "[0.000000 1.000000 3.000000 2.000000]\n",
      "[0, 1, 3, 2]\n",
      "\n",
      "[0.000000 2.000000 1.000000 3.000000]\n",
      "[0, 2, 1, 3]\n",
      "\n",
      "[0.000000 2.000000 1.000000 3.000000]\n",
      "[0, 2, 1, 3]\n"
     ]
    }
   ],
   "source": [
    "heads = 2\n",
    "np.random.seed(10)\n",
    "np10x10_ones = np.random.normal(0,1,(10,10)).astype(np.float32)\n",
    "# np_ones  = np.random.normal(0,1,(1,5,10)).astype(np.float32)\n",
    "np_ones = np.ones((1,5,10)).astype(np.float32)\n",
    "\n",
    "minitorchAttention=MultiHeadAttention(10, heads, True, 0.0, False, backend)  \n",
    "minitorchAttention.q_projection.weights.value = tensor_from_numpy(np10x10_ones, backend, True)\n",
    "minitorchAttention.k_projection.weights.value = tensor_from_numpy(np10x10_ones, backend, True)\n",
    "minitorchAttention.v_projection.weights.value = tensor_from_numpy(np10x10_ones, backend, True)\n",
    "minitorchAttention.out_projection.weights.value = tensor_from_numpy(np10x10_ones, backend, True)\n",
    "x =  tensor_from_numpy(np_ones, backend, True)\n",
    "y=minitorchAttention(x)\n",
    "y.sum().backward()\n",
    "\n",
    "pytorchAttention = PytorchMultiHeadAttention(10, heads, causal=True, p_dropout=0.0, bias=False)\n",
    "with torch.no_grad():\n",
    "    pytorchAttention.q_projection.weight.copy_(torch.from_numpy(np10x10_ones.T))\n",
    "    pytorchAttention.k_projection.weight.copy_(torch.from_numpy(np10x10_ones.T))\n",
    "    pytorchAttention.v_projection.weight.copy_(torch.from_numpy(np10x10_ones.T))\n",
    "    pytorchAttention.out_projection.weight.copy_(torch.from_numpy(np10x10_ones.T))\n",
    "inputTensor = torch.from_numpy(np_ones).requires_grad_(True)\n",
    "# inputTensor.retain_grad()\n",
    "pytorch_y=pytorchAttention(inputTensor)\n",
    "pytorch_y.sum().backward()"
   ]
  },
  {
   "cell_type": "code",
   "execution_count": 8,
   "id": "3dc86be0-6fd9-447e-913e-11e19a1b12d1",
   "metadata": {},
   "outputs": [
    {
     "data": {
      "text/plain": [
       "\n",
       "[\n",
       "\t[2.990415 8.881533 17.826761 4.652535 -8.729689 21.574926 -8.850663 8.025425 -9.896193 3.233282]\n",
       "\t[2.990415 8.881533 17.826761 4.652535 -8.729689 21.574926 -8.850663 8.025425 -9.896193 3.233282]\n",
       "\t[2.990415 8.881533 17.826761 4.652535 -8.729689 21.574926 -8.850663 8.025425 -9.896193 3.233282]\n",
       "\t[2.990415 8.881533 17.826761 4.652535 -8.729689 21.574926 -8.850663 8.025425 -9.896193 3.233282]\n",
       "\t[2.990415 8.881533 17.826761 4.652535 -8.729689 21.574926 -8.850663 8.025425 -9.896193 3.233282]\n",
       "\t[2.990415 8.881533 17.826761 4.652535 -8.729689 21.574926 -8.850663 8.025425 -9.896193 3.233282]\n",
       "\t[2.990415 8.881533 17.826761 4.652535 -8.729689 21.574926 -8.850663 8.025425 -9.896193 3.233282]\n",
       "\t[2.990415 8.881533 17.826761 4.652535 -8.729689 21.574926 -8.850663 8.025425 -9.896193 3.233282]\n",
       "\t[2.990415 8.881533 17.826761 4.652535 -8.729689 21.574926 -8.850663 8.025425 -9.896193 3.233282]\n",
       "\t[2.990415 8.881533 17.826761 4.652535 -8.729689 21.574926 -8.850663 8.025425 -9.896193 3.233282]]"
      ]
     },
     "execution_count": 8,
     "metadata": {},
     "output_type": "execute_result"
    }
   ],
   "source": [
    "minitorchAttention.v_projection.weights.value.grad"
   ]
  },
  {
   "cell_type": "code",
   "execution_count": 9,
   "id": "208c7eb5-d63e-46d4-a2c4-fddcf60a0eaf",
   "metadata": {},
   "outputs": [
    {
     "data": {
      "text/plain": [
       "tensor([[ 2.9904,  8.8815, 17.8268,  4.6525, -8.7297, 21.5749, -8.8507,  8.0254,\n",
       "         -9.8962,  3.2333],\n",
       "        [ 2.9904,  8.8815, 17.8268,  4.6525, -8.7297, 21.5749, -8.8507,  8.0254,\n",
       "         -9.8962,  3.2333],\n",
       "        [ 2.9904,  8.8815, 17.8268,  4.6525, -8.7297, 21.5749, -8.8507,  8.0254,\n",
       "         -9.8962,  3.2333],\n",
       "        [ 2.9904,  8.8815, 17.8268,  4.6525, -8.7297, 21.5749, -8.8507,  8.0254,\n",
       "         -9.8962,  3.2333],\n",
       "        [ 2.9904,  8.8815, 17.8268,  4.6525, -8.7297, 21.5749, -8.8507,  8.0254,\n",
       "         -9.8962,  3.2333],\n",
       "        [ 2.9904,  8.8815, 17.8268,  4.6525, -8.7297, 21.5749, -8.8507,  8.0254,\n",
       "         -9.8962,  3.2333],\n",
       "        [ 2.9904,  8.8815, 17.8268,  4.6525, -8.7297, 21.5749, -8.8507,  8.0254,\n",
       "         -9.8962,  3.2333],\n",
       "        [ 2.9904,  8.8815, 17.8268,  4.6525, -8.7297, 21.5749, -8.8507,  8.0254,\n",
       "         -9.8962,  3.2333],\n",
       "        [ 2.9904,  8.8815, 17.8268,  4.6525, -8.7297, 21.5749, -8.8507,  8.0254,\n",
       "         -9.8962,  3.2333],\n",
       "        [ 2.9904,  8.8815, 17.8268,  4.6525, -8.7297, 21.5749, -8.8507,  8.0254,\n",
       "         -9.8962,  3.2333]])"
      ]
     },
     "execution_count": 9,
     "metadata": {},
     "output_type": "execute_result"
    }
   ],
   "source": [
    "pytorchAttention.v_projection.weight.grad.T"
   ]
  },
  {
   "cell_type": "code",
   "execution_count": 10,
   "id": "b1c7182f-1c76-4d57-8199-1d663ccae0d0",
   "metadata": {},
   "outputs": [],
   "source": [
    "minitorchAttention.Xqflattened.grad"
   ]
  },
  {
   "cell_type": "code",
   "execution_count": 11,
   "id": "b29f37e8-9a74-4f7b-836f-0b8e48ade18c",
   "metadata": {},
   "outputs": [],
   "source": [
    "minitorchAttention.x_flattened.grad"
   ]
  },
  {
   "cell_type": "code",
   "execution_count": null,
   "id": "d33ba46a-f157-4204-9501-0be0081201c8",
   "metadata": {},
   "outputs": [],
   "source": []
  },
  {
   "cell_type": "code",
   "execution_count": 12,
   "id": "8fc163d9-e6da-449f-b44d-bfe1f22ecb0e",
   "metadata": {},
   "outputs": [],
   "source": [
    "minitorchAttention.Xv1.grad"
   ]
  },
  {
   "cell_type": "code",
   "execution_count": 13,
   "id": "1ea45acd-2ff8-49ee-901f-3005c7cd471d",
   "metadata": {},
   "outputs": [
    {
     "data": {
      "text/plain": [
       "(50, 10, 5, 1)"
      ]
     },
     "execution_count": 13,
     "metadata": {},
     "output_type": "execute_result"
    }
   ],
   "source": [
    "pytorchAttention.Xv2.grad.stride()"
   ]
  },
  {
   "cell_type": "code",
   "execution_count": 14,
   "id": "1897bb76-9b7f-4f78-86fa-16eb156854bd",
   "metadata": {},
   "outputs": [
    {
     "data": {
      "text/plain": [
       "tensor([[[ 1.3656,  4.0559,  8.1409,  2.1247, -3.9866,  9.8526, -4.0418,\n",
       "           3.6649, -4.5193,  1.4765],\n",
       "         [ 0.7675,  2.2796,  4.5755,  1.1942, -2.2406,  5.5376, -2.2717,\n",
       "           2.0599, -2.5400,  0.8299],\n",
       "         [ 0.4685,  1.3914,  2.7929,  0.7289, -1.3677,  3.3801, -1.3866,\n",
       "           1.2573, -1.5504,  0.5065],\n",
       "         [ 0.2691,  0.7993,  1.6044,  0.4187, -0.7857,  1.9417, -0.7966,\n",
       "           0.7223, -0.8907,  0.2910],\n",
       "         [ 0.1196,  0.3553,  0.7131,  0.1861, -0.3492,  0.8630, -0.3540,\n",
       "           0.3210, -0.3958,  0.1293]]])"
      ]
     },
     "execution_count": 14,
     "metadata": {},
     "output_type": "execute_result"
    }
   ],
   "source": [
    "pytorchAttention.Xv1.grad"
   ]
  },
  {
   "cell_type": "code",
   "execution_count": 15,
   "id": "07a92147-a379-4377-b876-a70f180b6858",
   "metadata": {},
   "outputs": [],
   "source": [
    "# minitorchAttention.Xv2.grad.view(1,5,10)\n"
   ]
  },
  {
   "cell_type": "code",
   "execution_count": 16,
   "id": "ff4e8387-9b0b-4228-bca3-41ccff7d5757",
   "metadata": {},
   "outputs": [
    {
     "data": {
      "text/plain": [
       "torch.Size([1, 5, 2, 5])"
      ]
     },
     "execution_count": 16,
     "metadata": {},
     "output_type": "execute_result"
    }
   ],
   "source": [
    "pytorchAttention.Xv2.grad.shape"
   ]
  },
  {
   "cell_type": "code",
   "execution_count": 17,
   "id": "3e158559-8bd5-48f4-910e-f3bb49915e85",
   "metadata": {},
   "outputs": [
    {
     "data": {
      "text/plain": [
       "torch.Size([1, 5, 10])"
      ]
     },
     "execution_count": 17,
     "metadata": {},
     "output_type": "execute_result"
    }
   ],
   "source": [
    "pytorchAttention.Xv1.grad.shape"
   ]
  },
  {
   "cell_type": "code",
   "execution_count": 18,
   "id": "a60057f1-357e-424a-a367-d9650a6dcfa1",
   "metadata": {},
   "outputs": [
    {
     "name": "stdout",
     "output_type": "stream",
     "text": [
      "[50 25  5  1]\n",
      "(1, 2, 5, 5)\n"
     ]
    }
   ],
   "source": [
    "t = minitorchAttention.Xv3\n",
    "print(t._tensor._strides)\n",
    "print(t.shape)"
   ]
  },
  {
   "cell_type": "code",
   "execution_count": 19,
   "id": "d05f05fa-aca6-4ab6-a8fb-dcefb39e95ee",
   "metadata": {},
   "outputs": [
    {
     "name": "stdout",
     "output_type": "stream",
     "text": [
      "(50, 25, 5, 1)\n",
      "torch.Size([1, 2, 5, 5])\n"
     ]
    }
   ],
   "source": [
    "u = pytorchAttention.Xv3\n",
    "print(u.stride())\n",
    "print(u.shape)"
   ]
  },
  {
   "cell_type": "code",
   "execution_count": null,
   "id": "9e650df0-ca32-4dc1-a2ff-56c9730e4451",
   "metadata": {},
   "outputs": [],
   "source": []
  },
  {
   "cell_type": "code",
   "execution_count": null,
   "id": "39b18e2b-5a3f-407d-8ebd-7149914bb505",
   "metadata": {},
   "outputs": [],
   "source": []
  },
  {
   "cell_type": "code",
   "execution_count": null,
   "id": "b8b01c2a-c74d-45a5-8bf5-4fa5916c1613",
   "metadata": {},
   "outputs": [],
   "source": []
  },
  {
   "cell_type": "code",
   "execution_count": null,
   "id": "5ca2c25c-e810-452b-bad8-4036d3464c4a",
   "metadata": {},
   "outputs": [],
   "source": []
  }
 ],
 "metadata": {
  "kernelspec": {
   "display_name": "Python 3 (ipykernel)",
   "language": "python",
   "name": "python3"
  },
  "language_info": {
   "codemirror_mode": {
    "name": "ipython",
    "version": 3
   },
   "file_extension": ".py",
   "mimetype": "text/x-python",
   "name": "python",
   "nbconvert_exporter": "python",
   "pygments_lexer": "ipython3",
   "version": "3.9.18"
  }
 },
 "nbformat": 4,
 "nbformat_minor": 5
}
